{
  "nbformat": 4,
  "nbformat_minor": 5,
  "metadata": {
    "kernelspec": {
      "display_name": "Python 3",
      "language": "python",
      "name": "python3"
    },
    "language_info": {
      "codemirror_mode": {
        "name": "ipython",
        "version": 3
      },
      "file_extension": ".py",
      "mimetype": "text/x-python",
      "name": "python",
      "nbconvert_exporter": "python",
      "pygments_lexer": "ipython3",
      "version": "3.7.9"
    },
    "varInspector": {
      "cols": {
        "lenName": 16,
        "lenType": 16,
        "lenVar": 40
      },
      "kernels_config": {
        "python": {
          "delete_cmd_postfix": "",
          "delete_cmd_prefix": "del ",
          "library": "var_list.py",
          "varRefreshCmd": "print(var_dic_list())"
        },
        "r": {
          "delete_cmd_postfix": ") ",
          "delete_cmd_prefix": "rm(",
          "library": "var_list.r",
          "varRefreshCmd": "cat(var_dic_list()) "
        }
      },
      "types_to_exclude": [
        "module",
        "function",
        "builtin_function_or_method",
        "instance",
        "_Feature"
      ],
      "window_display": false
    },
    "colab": {
      "name": "MulticlassTextClassification_Characters.ipynb",
      "provenance": [],
      "include_colab_link": true
    }
  },
  "cells": [
    {
      "cell_type": "markdown",
      "metadata": {
        "id": "view-in-github",
        "colab_type": "text"
      },
      "source": [
        "<a href=\"https://colab.research.google.com/github/schul016/ml-for-docs/blob/main/pluralsight-nlp-janani-ravi/notebooks/MulticlassTextClassification_Characters.ipynb\" target=\"_parent\"><img src=\"https://colab.research.google.com/assets/colab-badge.svg\" alt=\"Open In Colab\"/></a>"
      ]
    },
    {
      "cell_type": "code",
      "metadata": {
        "id": "AvXDqMZn15PA"
      },
      "source": [
        "# testing\n",
        "# see if this shows up in github"
      ],
      "id": "AvXDqMZn15PA",
      "execution_count": null,
      "outputs": []
    },
    {
      "cell_type": "code",
      "metadata": {
        "id": "e2ef3928"
      },
      "source": [
        "from io import open\n",
        "import glob\n",
        "import os"
      ],
      "id": "e2ef3928",
      "execution_count": null,
      "outputs": []
    },
    {
      "cell_type": "code",
      "metadata": {
        "id": "d20d6441",
        "outputId": "a00d158c-150b-4700-a62b-c71af8c90735"
      },
      "source": [
        "print(glob.glob(\"../datasets/data/names/*.txt\"))"
      ],
      "id": "d20d6441",
      "execution_count": null,
      "outputs": [
        {
          "name": "stdout",
          "output_type": "stream",
          "text": [
            "['../datasets/data/names\\\\Arabic.txt', '../datasets/data/names\\\\Chinese.txt', '../datasets/data/names\\\\Czech.txt', '../datasets/data/names\\\\Dutch.txt', '../datasets/data/names\\\\English.txt', '../datasets/data/names\\\\French.txt', '../datasets/data/names\\\\German.txt', '../datasets/data/names\\\\Greek.txt', '../datasets/data/names\\\\Irish.txt', '../datasets/data/names\\\\Italian.txt', '../datasets/data/names\\\\Japanese.txt', '../datasets/data/names\\\\Korean.txt', '../datasets/data/names\\\\Polish.txt', '../datasets/data/names\\\\Portuguese.txt', '../datasets/data/names\\\\Russian.txt', '../datasets/data/names\\\\Scottish.txt', '../datasets/data/names\\\\Spanish.txt', '../datasets/data/names\\\\Vietnamese.txt']\n"
          ]
        }
      ]
    },
    {
      "cell_type": "code",
      "metadata": {
        "id": "12866797",
        "outputId": "fefc4dcb-7800-4ec2-fa75-0d66413fff12"
      },
      "source": [
        "import unicodedata\n",
        "import string\n",
        "\n",
        "all_letters = string.ascii_letters + \" .,;'\"\n",
        "n_letters = len(all_letters)\n",
        "\n",
        "all_letters"
      ],
      "id": "12866797",
      "execution_count": null,
      "outputs": [
        {
          "data": {
            "text/plain": [
              "\"abcdefghijklmnopqrstuvwxyzABCDEFGHIJKLMNOPQRSTUVWXYZ .,;'\""
            ]
          },
          "execution_count": 6,
          "metadata": {},
          "output_type": "execute_result"
        }
      ]
    },
    {
      "cell_type": "code",
      "metadata": {
        "id": "d190ce8a",
        "outputId": "27ecfd24-5b40-4239-8513-eb653d045364"
      },
      "source": [
        "n_letters"
      ],
      "id": "d190ce8a",
      "execution_count": null,
      "outputs": [
        {
          "data": {
            "text/plain": [
              "57"
            ]
          },
          "execution_count": 7,
          "metadata": {},
          "output_type": "execute_result"
        }
      ]
    },
    {
      "cell_type": "code",
      "metadata": {
        "id": "4323c3d1"
      },
      "source": [
        "language_names = {}\n",
        "all_languages = []\n"
      ],
      "id": "4323c3d1",
      "execution_count": null,
      "outputs": []
    },
    {
      "cell_type": "code",
      "metadata": {
        "id": "0df03a7a"
      },
      "source": [
        "def unicodeToAscii(s):\n",
        "    return ''.join(\n",
        "        c for c in unicodedata.normalize(\"NFD\", s) \n",
        "        if unicodedata.category(c) != 'Mn'\n",
        "        and c in all_letters\n",
        "    )"
      ],
      "id": "0df03a7a",
      "execution_count": null,
      "outputs": []
    },
    {
      "cell_type": "code",
      "metadata": {
        "id": "f8c02415",
        "outputId": "da0681dd-7549-42dd-9368-3bcb9bc603ec"
      },
      "source": [
        "unicodeToAscii(\"Émile\")"
      ],
      "id": "f8c02415",
      "execution_count": null,
      "outputs": [
        {
          "data": {
            "text/plain": [
              "'Emile'"
            ]
          },
          "execution_count": 10,
          "metadata": {},
          "output_type": "execute_result"
        }
      ]
    },
    {
      "cell_type": "code",
      "metadata": {
        "id": "c2b0aa1d"
      },
      "source": [
        "def findFiles(path):\n",
        "    return glob.glob(path)"
      ],
      "id": "c2b0aa1d",
      "execution_count": null,
      "outputs": []
    },
    {
      "cell_type": "code",
      "metadata": {
        "id": "60b5f40b"
      },
      "source": [
        "total_names = 0\n",
        "\n",
        "for filename in findFiles(\"../datasets/data/names/*.txt\"):\n",
        "    language = os.path.splitext(os.path.basename(filename))[0]\n",
        "    all_languages.append(language)\n",
        "    read_names = open(filename, encoding=\"utf-8\").read().strip().split(\"\\n\")\n",
        "    names = [unicodeToAscii(line) for line in read_names]\n",
        "    language_names[language] = names\n",
        "    total_names += len(names)"
      ],
      "id": "60b5f40b",
      "execution_count": null,
      "outputs": []
    },
    {
      "cell_type": "code",
      "metadata": {
        "id": "5f9dbbd6",
        "outputId": "1a1a974d-ccb5-431a-ccbe-722ef1d25051"
      },
      "source": [
        "all_languages"
      ],
      "id": "5f9dbbd6",
      "execution_count": null,
      "outputs": [
        {
          "data": {
            "text/plain": [
              "['Arabic',\n",
              " 'Chinese',\n",
              " 'Czech',\n",
              " 'Dutch',\n",
              " 'English',\n",
              " 'French',\n",
              " 'German',\n",
              " 'Greek',\n",
              " 'Irish',\n",
              " 'Italian',\n",
              " 'Japanese',\n",
              " 'Korean',\n",
              " 'Polish',\n",
              " 'Portuguese',\n",
              " 'Russian',\n",
              " 'Scottish',\n",
              " 'Spanish',\n",
              " 'Vietnamese']"
            ]
          },
          "execution_count": 26,
          "metadata": {},
          "output_type": "execute_result"
        }
      ]
    },
    {
      "cell_type": "code",
      "metadata": {
        "id": "6480a7aa",
        "outputId": "542d669c-aa19-4f1c-c37d-151a8ae45264"
      },
      "source": [
        "total_names"
      ],
      "id": "6480a7aa",
      "execution_count": null,
      "outputs": [
        {
          "data": {
            "text/plain": [
              "20074"
            ]
          },
          "execution_count": 15,
          "metadata": {},
          "output_type": "execute_result"
        }
      ]
    },
    {
      "cell_type": "code",
      "metadata": {
        "id": "94ce79b7",
        "outputId": "d5f499f1-5ccb-4158-fcbe-d451b57976f3"
      },
      "source": [
        "language_names[\"Czech\"][:5]"
      ],
      "id": "94ce79b7",
      "execution_count": null,
      "outputs": [
        {
          "data": {
            "text/plain": [
              "['Abl', 'Adsit', 'Ajdrna', 'Alt', 'Antonowitsch']"
            ]
          },
          "execution_count": 16,
          "metadata": {},
          "output_type": "execute_result"
        }
      ]
    },
    {
      "cell_type": "code",
      "metadata": {
        "id": "2baf79a6"
      },
      "source": [
        "import torch"
      ],
      "id": "2baf79a6",
      "execution_count": null,
      "outputs": []
    },
    {
      "cell_type": "code",
      "metadata": {
        "id": "9dfc3b8f"
      },
      "source": [
        "def letterToTensor(letter):\n",
        "    tensor = torch.zeros(1, n_letters)\n",
        "    tensor[0][all_letters.find(letter)] = 1\n",
        "    \n",
        "    return tensor"
      ],
      "id": "9dfc3b8f",
      "execution_count": null,
      "outputs": []
    },
    {
      "cell_type": "code",
      "metadata": {
        "id": "e110b6e7",
        "outputId": "e14e09f1-3958-49a9-f381-fc6a68e13335"
      },
      "source": [
        "print(letterToTensor(\"Z\"))"
      ],
      "id": "e110b6e7",
      "execution_count": null,
      "outputs": [
        {
          "name": "stdout",
          "output_type": "stream",
          "text": [
            "tensor([[0., 0., 0., 0., 0., 0., 0., 0., 0., 0., 0., 0., 0., 0., 0., 0., 0., 0.,\n",
            "         0., 0., 0., 0., 0., 0., 0., 0., 0., 0., 0., 0., 0., 0., 0., 0., 0., 0.,\n",
            "         0., 0., 0., 0., 0., 0., 0., 0., 0., 0., 0., 0., 0., 0., 0., 1., 0., 0.,\n",
            "         0., 0., 0.]])\n"
          ]
        }
      ]
    },
    {
      "cell_type": "code",
      "metadata": {
        "id": "0183b12b"
      },
      "source": [
        "def nameToTensor(name):\n",
        "    tensor = torch.zeros(len(name), 1, n_letters)\n",
        "    \n",
        "    for li, letter in enumerate(name):\n",
        "        tensor[li][0][all_letters.find(letter)] = 1\n",
        "        \n",
        "    return tensor"
      ],
      "id": "0183b12b",
      "execution_count": null,
      "outputs": []
    },
    {
      "cell_type": "code",
      "metadata": {
        "id": "b470ef76",
        "outputId": "611a7d07-4a33-464d-9456-ae24366b3b25"
      },
      "source": [
        "mary_tensor = nameToTensor(\"Mary\")\n",
        "\n",
        "mary_tensor.size()"
      ],
      "id": "b470ef76",
      "execution_count": null,
      "outputs": [
        {
          "data": {
            "text/plain": [
              "torch.Size([4, 1, 57])"
            ]
          },
          "execution_count": 24,
          "metadata": {},
          "output_type": "execute_result"
        }
      ]
    },
    {
      "cell_type": "code",
      "metadata": {
        "id": "9839e224"
      },
      "source": [
        "import torch.nn as nn\n",
        "\n",
        "class RNN(nn.Module):\n",
        "    \n",
        "    def __init__(self, input_size, hidden_size, output_size):\n",
        "        \n",
        "        super(RNN, self).__init__()\n",
        "        \n",
        "        self.hidden_size = hidden_size\n",
        "        \n",
        "        self.i2h = nn.Linear(input_size + hidden_size, hidden_size)\n",
        "        \n",
        "        self.i2o = nn.Linear(input_size + hidden_size, output_size)\n",
        "        \n",
        "        self.softmax = nn.LogSoftmax(dim=1)\n",
        "        \n",
        "    def forward(self, input, hidden):\n",
        "        combined = torch.cat((input, hidden), 1)\n",
        "        \n",
        "        hidden = self.i2h(combined)\n",
        "        output = self.i2o(combined)\n",
        "        output = self.softmax(output)\n",
        "        \n",
        "        return output, hidden\n",
        "    \n",
        "    def initHidden(self):\n",
        "        return torch.zeros(1, self.hidden_size)"
      ],
      "id": "9839e224",
      "execution_count": null,
      "outputs": []
    },
    {
      "cell_type": "code",
      "metadata": {
        "id": "5bf3c590"
      },
      "source": [
        "n_hidden = 256 \n",
        "\n",
        "rnn = RNN(n_letters, n_hidden, len(all_languages))"
      ],
      "id": "5bf3c590",
      "execution_count": null,
      "outputs": []
    },
    {
      "cell_type": "code",
      "metadata": {
        "id": "cf58be86",
        "outputId": "f7b2fbee-b858-4fbd-d727-a976728f8fae"
      },
      "source": [
        "inp = letterToTensor(\"C\")\n",
        "\n",
        "hidden = torch.zeros(1, n_hidden)\n",
        "\n",
        "output, next_hidden = rnn(inp, hidden)\n",
        "\n",
        "print(\"output size =\", output.size())\n",
        "print(\"next hidden size =\", next_hidden.size())"
      ],
      "id": "cf58be86",
      "execution_count": null,
      "outputs": [
        {
          "name": "stdout",
          "output_type": "stream",
          "text": [
            "output size = torch.Size([1, 18])\n",
            "next hidden size = torch.Size([1, 256])\n"
          ]
        }
      ]
    },
    {
      "cell_type": "code",
      "metadata": {
        "id": "10911eee"
      },
      "source": [
        "def languageFromOutput(output):\n",
        "    _, top_i = output.topk(1)\n",
        "    language_i = top_i[0].item()\n",
        "    return all_languages[language_i], language_i"
      ],
      "id": "10911eee",
      "execution_count": null,
      "outputs": []
    },
    {
      "cell_type": "code",
      "metadata": {
        "id": "bc2e86d1",
        "outputId": "1b18d487-7a13-41cb-d94d-3d8d7caa9198"
      },
      "source": [
        "print(languageFromOutput(output))"
      ],
      "id": "bc2e86d1",
      "execution_count": null,
      "outputs": [
        {
          "name": "stdout",
          "output_type": "stream",
          "text": [
            "('Japanese', 10)\n"
          ]
        }
      ]
    },
    {
      "cell_type": "code",
      "metadata": {
        "id": "c2b2f00f"
      },
      "source": [
        "import random\n",
        "\n",
        "def randomTrainingExample():\n",
        "    random_language_index = random.randint(0, len(all_languages) -1)\n",
        "    language = all_languages[random_language_index]\n",
        "    \n",
        "    random_language_names = language_names[language]\n",
        "    \n",
        "    name = random_language_names[random.randint(0, len(random_language_names) -1)]\n",
        "    \n",
        "    language_tensor = torch.tensor([all_languages.index(language)], dtype=torch.long)\n",
        "    name_tensor = nameToTensor(name)\n",
        "    \n",
        "    return language, name, language_tensor, name_tensor"
      ],
      "id": "c2b2f00f",
      "execution_count": null,
      "outputs": []
    },
    {
      "cell_type": "code",
      "metadata": {
        "id": "2ab5ef95"
      },
      "source": [
        "for i in range(10):\n",
        "    language, name, language_tensor, name_tensor = randomTrainingExample()\n",
        "    print(\"language =\", language, \", name=\", name, \"language_tensor shape=\",\n",
        "          language_tensor.shape, \"language_tensor=\", language_tensor,\n",
        "          \"name_tensor shape=\", name_tensor.shape, \"name_tensor=\", name_tensor)"
      ],
      "id": "2ab5ef95",
      "execution_count": null,
      "outputs": []
    },
    {
      "cell_type": "code",
      "metadata": {
        "id": "993ea1e5"
      },
      "source": [
        "criterion = nn.NLLLoss()\n",
        "learning_rate = 0.005"
      ],
      "id": "993ea1e5",
      "execution_count": null,
      "outputs": []
    },
    {
      "cell_type": "code",
      "metadata": {
        "id": "693326d4"
      },
      "source": [
        "def train(language_tensor, name_tensor):\n",
        "    hidden = rnn.initHidden()\n",
        "    rnn.zero_grad()\n",
        "    \n",
        "    for i in range(name_tensor.size()[0]):\n",
        "        output, hidden = rnn(name_tensor[i], hidden)\n",
        "        \n",
        "    loss = criterion(output, language_tensor)\n",
        "    loss.backward()\n",
        "    \n",
        "    for p in rnn.parameters():\n",
        "        p.data.add_(-learning_rate, p.grad.data)\n",
        "        \n",
        "    return output, loss.item()"
      ],
      "id": "693326d4",
      "execution_count": null,
      "outputs": []
    },
    {
      "cell_type": "code",
      "metadata": {
        "id": "bf5a5596",
        "outputId": "dd1d954e-e078-451a-b1c1-01ea144ea119"
      },
      "source": [
        "for p in rnn.parameters():\n",
        "    print(p.shape)"
      ],
      "id": "bf5a5596",
      "execution_count": null,
      "outputs": [
        {
          "name": "stdout",
          "output_type": "stream",
          "text": [
            "torch.Size([256, 313])\n",
            "torch.Size([256])\n",
            "torch.Size([18, 313])\n",
            "torch.Size([18])\n"
          ]
        }
      ]
    },
    {
      "cell_type": "code",
      "metadata": {
        "id": "c8af6c2a",
        "outputId": "0c9a159b-e106-46c2-8191-920da7761939"
      },
      "source": [
        "name_tensor.size()"
      ],
      "id": "c8af6c2a",
      "execution_count": null,
      "outputs": [
        {
          "data": {
            "text/plain": [
              "torch.Size([8, 1, 57])"
            ]
          },
          "execution_count": 48,
          "metadata": {},
          "output_type": "execute_result"
        }
      ]
    },
    {
      "cell_type": "code",
      "metadata": {
        "id": "5d5499e8"
      },
      "source": [
        "n_iters = 200000\n",
        "\n",
        "current_loss = 0\n",
        "all_losses = []"
      ],
      "id": "5d5499e8",
      "execution_count": null,
      "outputs": []
    },
    {
      "cell_type": "code",
      "metadata": {
        "id": "3c302842",
        "outputId": "b2e955a3-e36d-44ce-bcde-112713f46783"
      },
      "source": [
        "for epoch in range(1, n_iters + 1):\n",
        "    language, name, language_tensor, name_tensor = randomTrainingExample()\n",
        "    output, loss = train(language_tensor, name_tensor)\n",
        "    current_loss += loss\n",
        "\n",
        "    if epoch % 5000 == 0:\n",
        "        guess, guess_i = languageFromOutput(output)\n",
        "        correct = \"✓\" if guess == language else \"✖ (%s)\" % language\n",
        "\n",
        "        print(\"%d %d%% %.4f %s / %s %s\" %\n",
        "              (epoch, epoch / n_iters * 100, loss, name, guess, correct))\n",
        "\n",
        "    if epoch % 1000 == 0:\n",
        "        all_losses.append(current_loss / 1000)\n",
        "        current_loss = 0"
      ],
      "id": "3c302842",
      "execution_count": null,
      "outputs": [
        {
          "name": "stdout",
          "output_type": "stream",
          "text": [
            "5000 2% 2.5166 Peatain / French ✖ (Irish)\n",
            "10000 5% 2.2445 Martin / Irish ✖ (Scottish)\n",
            "15000 7% 1.6051 Dounias / Greek ✓\n",
            "20000 10% 1.6721 Hofwegen / Dutch ✓\n",
            "25000 12% 2.9143 Gluhih / Irish ✖ (Russian)\n",
            "30000 15% 0.6636 Romijnsen / Dutch ✓\n",
            "35000 17% 1.9987 Sai / Chinese ✖ (Vietnamese)\n",
            "40000 20% 1.6955 Ganem / Arabic ✓\n",
            "45000 22% 0.6916 Coelho / Portuguese ✓\n",
            "50000 25% 1.1978 Severin / French ✓\n",
            "55000 27% 2.6665 Craig / Arabic ✖ (Scottish)\n",
            "60000 30% 0.7886 Bartonova / Czech ✓\n",
            "65000 32% 1.0055 Beckenbauer / German ✓\n",
            "70000 35% 0.0182 Zdunowski / Polish ✓\n",
            "75000 37% 0.2117 Arrighetti / Italian ✓\n",
            "80000 40% 3.2855 Albuquerque / Irish ✖ (Spanish)\n",
            "85000 42% 0.8238 Picasso / Spanish ✓\n",
            "90000 45% 3.0659 Jangel / French ✖ (Russian)\n",
            "95000 47% 0.1494 Hyata / Japanese ✓\n",
            "100000 50% 0.0719 Hautiev / Russian ✓\n",
            "105000 52% 0.1049 Paschalis / Greek ✓\n",
            "110000 55% 0.5727 Brambani / Italian ✓\n",
            "115000 57% 1.3751 Kassmeyer / Dutch ✖ (German)\n",
            "120000 60% 3.8691 Laar / Vietnamese ✖ (Dutch)\n",
            "125000 62% 2.3761 Moulin / Irish ✖ (French)\n",
            "130000 65% 1.8917 Imran / Scottish ✖ (English)\n",
            "135000 67% 1.2381 Dorrington / French ✖ (English)\n",
            "140000 70% 4.8574 Cline / French ✖ (German)\n",
            "145000 72% 2.0529 Danshin / Irish ✖ (Russian)\n",
            "150000 75% 0.3285 Romano / Italian ✓\n",
            "155000 77% 2.4796 Asker / Dutch ✖ (Arabic)\n",
            "160000 80% 0.0798 Vu / Vietnamese ✓\n",
            "165000 82% 0.0969 Rodriquez / Spanish ✓\n",
            "170000 85% 0.6786 Jaeger / German ✓\n",
            "175000 87% 0.0766 Kahaya / Japanese ✓\n",
            "180000 90% 0.3802 Connolly / Irish ✓\n",
            "185000 92% 0.0600 Paraskos / Greek ✓\n",
            "190000 95% 1.4637 Nazario / Spanish ✖ (Italian)\n",
            "195000 97% 0.5005 Bergamaschi / Italian ✓\n",
            "200000 100% 4.1494 Wood / Scottish ✖ (Czech)\n"
          ]
        }
      ]
    },
    {
      "cell_type": "code",
      "metadata": {
        "id": "eef5c6a0",
        "outputId": "0ad43688-fb88-4a53-fe55-78cf06c1d968"
      },
      "source": [
        "import matplotlib.pyplot as plt\n",
        "\n",
        "plt.figure(figsize=(10,8))\n",
        "plt.plot(all_losses)\n",
        "plt.show()"
      ],
      "id": "eef5c6a0",
      "execution_count": null,
      "outputs": [
        {
          "data": {
            "image/png": "[encoded data removed]",
            "text/plain": [
              "<Figure size 720x576 with 1 Axes>"
            ]
          },
          "metadata": {
            "needs_background": "light"
          },
          "output_type": "display_data"
        }
      ]
    },
    {
      "cell_type": "code",
      "metadata": {
        "id": "0e4f860f",
        "outputId": "5e0436de-04c7-42ac-fa95-fc1962e844f5"
      },
      "source": [
        "n_predictions = 3 \n",
        "input_name = \"Bukoski\"\n",
        "\n",
        "with torch.no_grad():\n",
        "    name_tensor = nameToTensor(input_name)\n",
        "    \n",
        "    hidden = rnn.initHidden()\n",
        "    for i in range(name_tensor.size()[0]):\n",
        "        output, hidden = rnn(name_tensor[i], hidden)\n",
        "        \n",
        "    topv, topi = output.topk(n_predictions, 1, True)\n",
        "    \n",
        "    for i in range(n_predictions):\n",
        "        \n",
        "        value = topv[0][i].item()\n",
        "        language_index = topi[0][i].item()\n",
        "        \n",
        "        print(\"(%.2f) %s\" % (value, all_languages[language_index]))"
      ],
      "id": "0e4f860f",
      "execution_count": null,
      "outputs": [
        {
          "name": "stdout",
          "output_type": "stream",
          "text": [
            "(-0.02) Polish\n",
            "(-4.88) Czech\n",
            "(-5.13) Russian\n"
          ]
        }
      ]
    }
  ]
}